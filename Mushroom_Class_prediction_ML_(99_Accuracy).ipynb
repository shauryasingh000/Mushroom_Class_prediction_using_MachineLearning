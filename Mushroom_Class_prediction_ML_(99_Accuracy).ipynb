{
  "metadata": {
    "kernelspec": {
      "language": "python",
      "display_name": "Python 3",
      "name": "python3"
    },
    "language_info": {
      "name": "python",
      "version": "3.10.13",
      "mimetype": "text/x-python",
      "codemirror_mode": {
        "name": "ipython",
        "version": 3
      },
      "pygments_lexer": "ipython3",
      "nbconvert_exporter": "python",
      "file_extension": ".py"
    },
    "kaggle": {
      "accelerator": "none",
      "dataSources": [
        {
          "sourceId": 974,
          "sourceType": "datasetVersion",
          "datasetId": 478
        }
      ],
      "dockerImageVersionId": 30732,
      "isInternetEnabled": true,
      "language": "python",
      "sourceType": "notebook",
      "isGpuEnabled": false
    },
    "colab": {
      "name": "Mushroom_Class_prediction_ML_(99% Accuracy)",
      "provenance": [],
      "include_colab_link": true
    }
  },
  "nbformat_minor": 0,
  "nbformat": 4,
  "cells": [
    {
      "cell_type": "markdown",
      "metadata": {
        "id": "view-in-github",
        "colab_type": "text"
      },
      "source": [
        "<a href=\"https://colab.research.google.com/github/shauryasingh000/Mushroom_Class_prediction_using_MachineLearning/blob/main/Mushroom_Class_prediction_ML_(99_Accuracy).ipynb\" target=\"_parent\"><img src=\"https://colab.research.google.com/assets/colab-badge.svg\" alt=\"Open In Colab\"/></a>"
      ]
    },
    {
      "source": [
        "\n",
        "# IMPORTANT: RUN THIS CELL IN ORDER TO IMPORT YOUR KAGGLE DATA SOURCES\n",
        "# TO THE CORRECT LOCATION (/kaggle/input) IN YOUR NOTEBOOK,\n",
        "# THEN FEEL FREE TO DELETE THIS CELL.\n",
        "# NOTE: THIS NOTEBOOK ENVIRONMENT DIFFERS FROM KAGGLE'S PYTHON\n",
        "# ENVIRONMENT SO THERE MAY BE MISSING LIBRARIES USED BY YOUR\n",
        "# NOTEBOOK.\n",
        "\n",
        "import os\n",
        "import sys\n",
        "from tempfile import NamedTemporaryFile\n",
        "from urllib.request import urlopen\n",
        "from urllib.parse import unquote, urlparse\n",
        "from urllib.error import HTTPError\n",
        "from zipfile import ZipFile\n",
        "import tarfile\n",
        "import shutil\n",
        "\n",
        "CHUNK_SIZE = 40960\n",
        "DATA_SOURCE_MAPPING = 'mushroom-classification:https%3A%2F%2Fstorage.googleapis.com%2Fkaggle-data-sets%2F478%2F974%2Fbundle%2Farchive.zip%3FX-Goog-Algorithm%3DGOOG4-RSA-SHA256%26X-Goog-Credential%3Dgcp-kaggle-com%2540kaggle-161607.iam.gserviceaccount.com%252F20240905%252Fauto%252Fstorage%252Fgoog4_request%26X-Goog-Date%3D20240905T060807Z%26X-Goog-Expires%3D259200%26X-Goog-SignedHeaders%3Dhost%26X-Goog-Signature%3D0944630cc4f5eb1d6b195960beb88ea5bb857c563b11bbd1635413a06f77fa272455526977d7f93f07a84969cda84089cab9278fff792b41ed837e784ddbb537a1720c9ea051751867faae9183453896dbddb392061062dfcbfa8c6e54d2a1b044263735f6d35ad33259ea6776fcc20cfe86dc03af707b62d535d9f67d16ffd6e1ad9c7b70acb428d0892209c6e1ae7913e8d6eda544fa38e8786c83116746524673c7df32309c03a8eef01711f8f0f04b367571012293ae413057b2140fec13f1d8a8a3009b1f1bdfe4d43a785968a68178ed191d08df1f1294ea39329e116da2df7d88f5cdd3fec0bfb91d5b6f162cea3724ffe656d7639594dba307a64006'\n",
        "\n",
        "KAGGLE_INPUT_PATH='/kaggle/input'\n",
        "KAGGLE_WORKING_PATH='/kaggle/working'\n",
        "KAGGLE_SYMLINK='kaggle'\n",
        "\n",
        "!umount /kaggle/input/ 2> /dev/null\n",
        "shutil.rmtree('/kaggle/input', ignore_errors=True)\n",
        "os.makedirs(KAGGLE_INPUT_PATH, 0o777, exist_ok=True)\n",
        "os.makedirs(KAGGLE_WORKING_PATH, 0o777, exist_ok=True)\n",
        "\n",
        "try:\n",
        "  os.symlink(KAGGLE_INPUT_PATH, os.path.join(\"..\", 'input'), target_is_directory=True)\n",
        "except FileExistsError:\n",
        "  pass\n",
        "try:\n",
        "  os.symlink(KAGGLE_WORKING_PATH, os.path.join(\"..\", 'working'), target_is_directory=True)\n",
        "except FileExistsError:\n",
        "  pass\n",
        "\n",
        "for data_source_mapping in DATA_SOURCE_MAPPING.split(','):\n",
        "    directory, download_url_encoded = data_source_mapping.split(':')\n",
        "    download_url = unquote(download_url_encoded)\n",
        "    filename = urlparse(download_url).path\n",
        "    destination_path = os.path.join(KAGGLE_INPUT_PATH, directory)\n",
        "    try:\n",
        "        with urlopen(download_url) as fileres, NamedTemporaryFile() as tfile:\n",
        "            total_length = fileres.headers['content-length']\n",
        "            print(f'Downloading {directory}, {total_length} bytes compressed')\n",
        "            dl = 0\n",
        "            data = fileres.read(CHUNK_SIZE)\n",
        "            while len(data) > 0:\n",
        "                dl += len(data)\n",
        "                tfile.write(data)\n",
        "                done = int(50 * dl / int(total_length))\n",
        "                sys.stdout.write(f\"\\r[{'=' * done}{' ' * (50-done)}] {dl} bytes downloaded\")\n",
        "                sys.stdout.flush()\n",
        "                data = fileres.read(CHUNK_SIZE)\n",
        "            if filename.endswith('.zip'):\n",
        "              with ZipFile(tfile) as zfile:\n",
        "                zfile.extractall(destination_path)\n",
        "            else:\n",
        "              with tarfile.open(tfile.name) as tarfile:\n",
        "                tarfile.extractall(destination_path)\n",
        "            print(f'\\nDownloaded and uncompressed: {directory}')\n",
        "    except HTTPError as e:\n",
        "        print(f'Failed to load (likely expired) {download_url} to path {destination_path}')\n",
        "        continue\n",
        "    except OSError as e:\n",
        "        print(f'Failed to load {download_url} to path {destination_path}')\n",
        "        continue\n",
        "\n",
        "print('Data source import complete.')\n"
      ],
      "metadata": {
        "id": "zcLbEMlGzCbe"
      },
      "cell_type": "code",
      "outputs": [],
      "execution_count": null
    },
    {
      "cell_type": "code",
      "source": [
        "# This Python 3 environment comes with many helpful analytics libraries installed\n",
        "# It is defined by the kaggle/python Docker image: https://github.com/kaggle/docker-python\n",
        "# For example, here's several helpful packages to load\n",
        "\n",
        "import numpy as np # linear algebra\n",
        "import pandas as pd # data processing, CSV file I/O (e.g. pd.read_csv)\n",
        "\n",
        "# Input data files are available in the read-only \"../input/\" directory\n",
        "# For example, running this (by clicking run or pressing Shift+Enter) will list all files under the input directory\n",
        "\n",
        "import os\n",
        "for dirname, _, filenames in os.walk('/kaggle/input'):\n",
        "    for filename in filenames:\n",
        "        print(os.path.join(dirname, filename))\n",
        "\n",
        "# You can write up to 20GB to the current directory (/kaggle/working/) that gets preserved as output when you create a version using \"Save & Run All\"\n",
        "# You can also write temporary files to /kaggle/temp/, but they won't be saved outside of the current session"
      ],
      "metadata": {
        "_uuid": "8f2839f25d086af736a60e9eeb907d3b93b6e0e5",
        "_cell_guid": "b1076dfc-b9ad-4769-8c92-a6c4dae69d19",
        "execution": {
          "iopub.status.busy": "2024-07-10T05:18:15.79735Z",
          "iopub.execute_input": "2024-07-10T05:18:15.797752Z",
          "iopub.status.idle": "2024-07-10T05:18:17.101927Z",
          "shell.execute_reply.started": "2024-07-10T05:18:15.797722Z",
          "shell.execute_reply": "2024-07-10T05:18:17.100505Z"
        },
        "trusted": true,
        "id": "MwX6bF_jzCbj"
      },
      "execution_count": null,
      "outputs": []
    },
    {
      "cell_type": "code",
      "source": [
        "import matplotlib.pyplot as plt\n",
        "import seaborn as sns\n",
        "import plotly.express as px\n",
        "import plotly.graph_objects as go\n",
        "import warnings\n",
        "\n",
        "warnings.filterwarnings('ignore')\n",
        "\n",
        "pd.set_option('display.max_columns',None)"
      ],
      "metadata": {
        "execution": {
          "iopub.status.busy": "2024-07-10T06:01:53.387468Z",
          "iopub.execute_input": "2024-07-10T06:01:53.387911Z",
          "iopub.status.idle": "2024-07-10T06:01:53.394771Z",
          "shell.execute_reply.started": "2024-07-10T06:01:53.387877Z",
          "shell.execute_reply": "2024-07-10T06:01:53.393334Z"
        },
        "trusted": true,
        "id": "7Ba9_QYezCbk"
      },
      "execution_count": null,
      "outputs": []
    },
    {
      "cell_type": "code",
      "source": [
        "data = pd.read_csv('/kaggle/input/mushroom-classification/mushrooms.csv')\n",
        "data.sample(10)"
      ],
      "metadata": {
        "execution": {
          "iopub.status.busy": "2024-07-10T05:20:42.917816Z",
          "iopub.execute_input": "2024-07-10T05:20:42.918222Z",
          "iopub.status.idle": "2024-07-10T05:20:42.977189Z",
          "shell.execute_reply.started": "2024-07-10T05:20:42.918191Z",
          "shell.execute_reply": "2024-07-10T05:20:42.975951Z"
        },
        "trusted": true,
        "id": "8l0Cj3ZfzCbk"
      },
      "execution_count": null,
      "outputs": []
    },
    {
      "cell_type": "code",
      "source": [
        "data.info()"
      ],
      "metadata": {
        "execution": {
          "iopub.status.busy": "2024-07-10T05:21:06.33606Z",
          "iopub.execute_input": "2024-07-10T05:21:06.336517Z",
          "iopub.status.idle": "2024-07-10T05:21:06.37115Z",
          "shell.execute_reply.started": "2024-07-10T05:21:06.336465Z",
          "shell.execute_reply": "2024-07-10T05:21:06.369687Z"
        },
        "trusted": true,
        "id": "9s5Hiq5LzCbl"
      },
      "execution_count": null,
      "outputs": []
    },
    {
      "cell_type": "markdown",
      "source": [
        "**Data mostly in string format need to be converted into numerical col to perform further function**"
      ],
      "metadata": {
        "id": "M37KfXu-zCbl"
      }
    },
    {
      "cell_type": "code",
      "source": [
        "data.describe().T"
      ],
      "metadata": {
        "execution": {
          "iopub.status.busy": "2024-07-10T05:24:15.317437Z",
          "iopub.execute_input": "2024-07-10T05:24:15.318954Z",
          "iopub.status.idle": "2024-07-10T05:24:15.412757Z",
          "shell.execute_reply.started": "2024-07-10T05:24:15.318901Z",
          "shell.execute_reply": "2024-07-10T05:24:15.411326Z"
        },
        "trusted": true,
        "id": "4RGBx_vQzCbn"
      },
      "execution_count": null,
      "outputs": []
    },
    {
      "cell_type": "code",
      "source": [
        "data.isnull().sum()"
      ],
      "metadata": {
        "execution": {
          "iopub.status.busy": "2024-07-10T05:26:33.592097Z",
          "iopub.execute_input": "2024-07-10T05:26:33.592517Z",
          "iopub.status.idle": "2024-07-10T05:26:33.623178Z",
          "shell.execute_reply.started": "2024-07-10T05:26:33.592471Z",
          "shell.execute_reply": "2024-07-10T05:26:33.621555Z"
        },
        "trusted": true,
        "id": "0omt_1RtzCbo"
      },
      "execution_count": null,
      "outputs": []
    },
    {
      "cell_type": "markdown",
      "source": [
        "Clean Data"
      ],
      "metadata": {
        "id": "Y36VnHLQzCbo"
      }
    },
    {
      "cell_type": "code",
      "source": [
        "# Encoding the data\n",
        "\n",
        "from sklearn.preprocessing import LabelEncoder\n",
        "\n",
        "le = LabelEncoder()\n",
        "\n",
        "for col in data.columns:\n",
        "    data[col] = le.fit_transform(data[col])\n",
        "\n",
        "data"
      ],
      "metadata": {
        "execution": {
          "iopub.status.busy": "2024-07-10T05:30:27.583797Z",
          "iopub.execute_input": "2024-07-10T05:30:27.584184Z",
          "iopub.status.idle": "2024-07-10T05:30:27.713453Z",
          "shell.execute_reply.started": "2024-07-10T05:30:27.584153Z",
          "shell.execute_reply": "2024-07-10T05:30:27.712292Z"
        },
        "trusted": true,
        "id": "W4wiYnV0zCbo"
      },
      "execution_count": null,
      "outputs": []
    },
    {
      "cell_type": "markdown",
      "source": [
        "# Basic Data Visualization"
      ],
      "metadata": {
        "id": "UL1pD3mlzCbp"
      }
    },
    {
      "cell_type": "code",
      "source": [
        "data_corr = data.corr()\n",
        "\n",
        "plt.figure(figsize=(15,15))\n",
        "sns.heatmap(data_corr,annot =True)"
      ],
      "metadata": {
        "execution": {
          "iopub.status.busy": "2024-07-10T05:32:39.779795Z",
          "iopub.execute_input": "2024-07-10T05:32:39.780251Z",
          "iopub.status.idle": "2024-07-10T05:32:41.985792Z",
          "shell.execute_reply.started": "2024-07-10T05:32:39.780219Z",
          "shell.execute_reply": "2024-07-10T05:32:41.984568Z"
        },
        "trusted": true,
        "id": "UoHEc_AkzCbp"
      },
      "execution_count": null,
      "outputs": []
    },
    {
      "cell_type": "code",
      "source": [
        "px.box(data,color ='class')"
      ],
      "metadata": {
        "execution": {
          "iopub.status.busy": "2024-07-10T05:41:34.304337Z",
          "iopub.execute_input": "2024-07-10T05:41:34.304757Z",
          "iopub.status.idle": "2024-07-10T05:41:34.988271Z",
          "shell.execute_reply.started": "2024-07-10T05:41:34.304727Z",
          "shell.execute_reply": "2024-07-10T05:41:34.986964Z"
        },
        "trusted": true,
        "id": "xmMM3HbizCbp"
      },
      "execution_count": null,
      "outputs": []
    },
    {
      "cell_type": "code",
      "source": [
        "data.hist(figsize = (15,15))"
      ],
      "metadata": {
        "execution": {
          "iopub.status.busy": "2024-07-10T05:45:46.189966Z",
          "iopub.execute_input": "2024-07-10T05:45:46.190385Z",
          "iopub.status.idle": "2024-07-10T05:45:51.84887Z",
          "shell.execute_reply.started": "2024-07-10T05:45:46.190354Z",
          "shell.execute_reply": "2024-07-10T05:45:51.847751Z"
        },
        "trusted": true,
        "id": "cnhuy-zzzCbp"
      },
      "execution_count": null,
      "outputs": []
    },
    {
      "cell_type": "code",
      "source": [
        "sns.pairplot(data,hue='class')"
      ],
      "metadata": {
        "execution": {
          "iopub.status.busy": "2024-07-10T05:46:16.405091Z",
          "iopub.execute_input": "2024-07-10T05:46:16.405543Z",
          "iopub.status.idle": "2024-07-10T05:56:48.999974Z",
          "shell.execute_reply.started": "2024-07-10T05:46:16.405481Z",
          "shell.execute_reply": "2024-07-10T05:56:48.998326Z"
        },
        "trusted": true,
        "id": "RKbTIz53zCbq"
      },
      "execution_count": null,
      "outputs": []
    },
    {
      "cell_type": "code",
      "source": [
        "from sklearn.model_selection import train_test_split\n",
        "\n",
        "X = data.drop(columns=['class'])\n",
        "y = data['class']\n",
        "\n",
        "X_train,X_test,y_train,y_test = train_test_split(X,y,test_size = 0.2 , random_state =42)\n",
        "X_train"
      ],
      "metadata": {
        "execution": {
          "iopub.status.busy": "2024-07-10T06:18:36.117443Z",
          "iopub.execute_input": "2024-07-10T06:18:36.118932Z",
          "iopub.status.idle": "2024-07-10T06:18:36.156993Z",
          "shell.execute_reply.started": "2024-07-10T06:18:36.118889Z",
          "shell.execute_reply": "2024-07-10T06:18:36.155598Z"
        },
        "trusted": true,
        "id": "vxD3B-MhzCbq"
      },
      "execution_count": null,
      "outputs": []
    },
    {
      "cell_type": "markdown",
      "source": [
        "**This Data is a Classification type Dataset**"
      ],
      "metadata": {
        "id": "o5FppetlzCbq"
      }
    },
    {
      "cell_type": "code",
      "source": [
        "# Importing suitable Libraries for this purpose\n",
        "from sklearn.model_selection import GridSearchCV\n",
        "\n",
        "from sklearn.neighbors import KNeighborsClassifier\n",
        "from sklearn.svm import SVC\n",
        "from sklearn.tree import DecisionTreeClassifier\n",
        "from sklearn.ensemble import RandomForestClassifier\n",
        "from sklearn.ensemble import AdaBoostClassifier\n",
        "from sklearn.ensemble import GradientBoostingClassifier\n",
        "from sklearn.ensemble import BaggingClassifier\n",
        "\n"
      ],
      "metadata": {
        "execution": {
          "iopub.status.busy": "2024-07-10T06:40:01.70983Z",
          "iopub.execute_input": "2024-07-10T06:40:01.710248Z",
          "iopub.status.idle": "2024-07-10T06:40:01.717781Z",
          "shell.execute_reply.started": "2024-07-10T06:40:01.710215Z",
          "shell.execute_reply": "2024-07-10T06:40:01.716378Z"
        },
        "trusted": true,
        "id": "yzcZH4hFzCbq"
      },
      "execution_count": null,
      "outputs": []
    },
    {
      "cell_type": "code",
      "source": [
        "from sklearn.metrics import accuracy_score,classification_report,r2_score\n",
        "from sklearn import metrics\n"
      ],
      "metadata": {
        "execution": {
          "iopub.status.busy": "2024-07-10T07:35:56.402784Z",
          "iopub.execute_input": "2024-07-10T07:35:56.403284Z",
          "iopub.status.idle": "2024-07-10T07:35:56.409374Z",
          "shell.execute_reply.started": "2024-07-10T07:35:56.403249Z",
          "shell.execute_reply": "2024-07-10T07:35:56.40796Z"
        },
        "trusted": true,
        "id": "EcMpyIGKzCbq"
      },
      "execution_count": null,
      "outputs": []
    },
    {
      "cell_type": "markdown",
      "source": [
        "**KNN CLASSIFIER**"
      ],
      "metadata": {
        "id": "DZUFEvuGzCbq"
      }
    },
    {
      "cell_type": "code",
      "source": [
        "knn = KNeighborsClassifier()\n",
        "\n",
        "X_train_knn = X_train.copy(deep = True)\n",
        "y_train_knn = y_train.copy(deep = True)\n",
        "\n",
        "param_grid = {'n_neighbors': range(1,11),\n",
        "    'weights': ['uniform', 'distance'],\n",
        "    'metric': ['euclidean', 'manhattan', 'minkowski']}\n",
        "gv = GridSearchCV(knn,param_grid = param_grid,cv = 4,scoring = 'accuracy')\n",
        "\n",
        "gv.fit(X_train_knn,y_train_knn)\n",
        "\n",
        "best_model = gv.best_estimator_\n",
        "best_parameter = gv.best_params_\n",
        "\n",
        "display(best_model,best_parameter)"
      ],
      "metadata": {
        "execution": {
          "iopub.status.busy": "2024-07-10T06:27:41.315556Z",
          "iopub.execute_input": "2024-07-10T06:27:41.31599Z",
          "iopub.status.idle": "2024-07-10T06:28:44.7842Z",
          "shell.execute_reply.started": "2024-07-10T06:27:41.315957Z",
          "shell.execute_reply": "2024-07-10T06:28:44.783167Z"
        },
        "trusted": true,
        "id": "LvNFQfeFzCbq"
      },
      "execution_count": null,
      "outputs": []
    },
    {
      "cell_type": "code",
      "source": [
        "knn = KNeighborsClassifier(metric='manhattan', n_neighbors =  1, weights = 'uniform')\n",
        "\n",
        "knn.fit(X_train_knn,y_train_knn)\n",
        "pred_knn = knn.predict(X_test)\n",
        "\n",
        "print(classification_report(y_test,pred_knn))\n",
        "\n",
        ""
      ],
      "metadata": {
        "execution": {
          "iopub.status.busy": "2024-07-10T06:35:02.839294Z",
          "iopub.execute_input": "2024-07-10T06:35:02.840377Z",
          "iopub.status.idle": "2024-07-10T06:35:03.220132Z",
          "shell.execute_reply.started": "2024-07-10T06:35:02.840336Z",
          "shell.execute_reply": "2024-07-10T06:35:03.219005Z"
        },
        "trusted": true,
        "id": "AVWOU_NQzCbr"
      },
      "execution_count": null,
      "outputs": []
    },
    {
      "cell_type": "code",
      "source": [
        "fpr, tpr, thresholds = metrics.roc_curve(y_test, pred_knn)\n",
        "roc_auc = metrics.auc(fpr, tpr)\n",
        "\n",
        "display = metrics.RocCurveDisplay(fpr=fpr, tpr=tpr, roc_auc=roc_auc,estimator_name='KNN Classifier',)\n",
        "\n",
        "display.plot()\n",
        "plt.show()"
      ],
      "metadata": {
        "execution": {
          "iopub.status.busy": "2024-07-10T07:37:56.204097Z",
          "iopub.execute_input": "2024-07-10T07:37:56.204572Z",
          "iopub.status.idle": "2024-07-10T07:37:56.773092Z",
          "shell.execute_reply.started": "2024-07-10T07:37:56.204534Z",
          "shell.execute_reply": "2024-07-10T07:37:56.771879Z"
        },
        "trusted": true,
        "id": "KKJ14hPRzCbr"
      },
      "execution_count": null,
      "outputs": []
    },
    {
      "cell_type": "code",
      "source": [
        "svc = SVC()\n",
        "\n",
        "X_train_svc = X_train.copy(deep = True)\n",
        "y_train_svc = y_train.copy(deep = True)\n",
        "\n",
        "\n",
        "param_grid = {\n",
        "    'C': [0.001, 0.01, 0.1, 1, 10, 100],\n",
        "    'kernel': ['linear', 'rbf'],\n",
        "    'gamma': ['auto', 'scale'],\n",
        "    'class_weight': ['balanced', None]}\n",
        "\n",
        "gv = GridSearchCV(svc,param_grid = param_grid,cv = 4,scoring = 'accuracy')\n",
        "\n",
        "gv.fit(X_train_svc,y_train_svc)\n",
        "\n",
        "best_model = gv.best_estimator_\n",
        "best_parameter = gv.best_params_\n",
        "\n",
        "display(best_model,best_parameter)"
      ],
      "metadata": {
        "execution": {
          "iopub.status.busy": "2024-07-10T06:40:13.686161Z",
          "iopub.execute_input": "2024-07-10T06:40:13.686595Z",
          "iopub.status.idle": "2024-07-10T06:50:51.27387Z",
          "shell.execute_reply.started": "2024-07-10T06:40:13.686562Z",
          "shell.execute_reply": "2024-07-10T06:50:51.27257Z"
        },
        "trusted": true,
        "id": "u5FbNeVPzCbr"
      },
      "execution_count": null,
      "outputs": []
    },
    {
      "cell_type": "code",
      "source": [
        "svc = SVC(C = 1,class_weight ='balanced',gamma='auto',kernel = 'rbf')\n",
        "\n",
        "svc.fit(X_train_svc,y_train_svc)\n",
        "pred_svc = svc.predict(X_test)\n",
        "\n",
        "print(classification_report(y_test,pred_svc))"
      ],
      "metadata": {
        "execution": {
          "iopub.status.busy": "2024-07-10T07:03:21.770515Z",
          "iopub.execute_input": "2024-07-10T07:03:21.770882Z",
          "iopub.status.idle": "2024-07-10T07:03:22.239436Z",
          "shell.execute_reply.started": "2024-07-10T07:03:21.770852Z",
          "shell.execute_reply": "2024-07-10T07:03:22.238413Z"
        },
        "trusted": true,
        "id": "U1V2oyaAzCbr"
      },
      "execution_count": null,
      "outputs": []
    },
    {
      "cell_type": "code",
      "source": [
        "fpr, tpr, thresholds = metrics.roc_curve(y_test, pred_svc)\n",
        "roc_auc = metrics.auc(fpr, tpr)\n",
        "\n",
        "display = metrics.RocCurveDisplay(fpr=fpr, tpr=tpr, roc_auc=roc_auc,estimator_name='SVC',)\n",
        "\n",
        "display.plot()\n",
        "plt.show()"
      ],
      "metadata": {
        "execution": {
          "iopub.status.busy": "2024-07-10T07:42:33.875914Z",
          "iopub.execute_input": "2024-07-10T07:42:33.876369Z",
          "iopub.status.idle": "2024-07-10T07:42:34.188817Z",
          "shell.execute_reply.started": "2024-07-10T07:42:33.876328Z",
          "shell.execute_reply": "2024-07-10T07:42:34.187577Z"
        },
        "trusted": true,
        "id": "BDYMrMwnzCbr"
      },
      "execution_count": null,
      "outputs": []
    },
    {
      "cell_type": "code",
      "source": [
        "dt = DecisionTreeClassifier()\n",
        "\n",
        "X_train_dt = X_train.copy(deep = True)\n",
        "y_train_dt = y_train.copy(deep = True)\n",
        "\n",
        "\n",
        "param_grid = {'max_depth': [3, 5, 7, 10, 12],\n",
        "    'min_samples_split': [2, 5, 10, 20],\n",
        "    'min_samples_leaf': [1, 5, 10],\n",
        "    'criterion': ['gini', 'entropy']}\n",
        "\n",
        "gv = GridSearchCV(dt, param_grid, cv=5, scoring='accuracy')\n",
        "\n",
        "gv.fit(X_train_dt,y_train_dt)\n",
        "\n",
        "best_model = gv.best_estimator_\n",
        "best_parameter = gv.best_params_\n",
        "\n",
        "display(best_model,best_parameter)\n"
      ],
      "metadata": {
        "execution": {
          "iopub.status.busy": "2024-07-10T06:50:59.80205Z",
          "iopub.execute_input": "2024-07-10T06:50:59.802576Z",
          "iopub.status.idle": "2024-07-10T06:51:08.09432Z",
          "shell.execute_reply.started": "2024-07-10T06:50:59.802531Z",
          "shell.execute_reply": "2024-07-10T06:51:08.092984Z"
        },
        "trusted": true,
        "id": "Zl0lsCfjzCbr"
      },
      "execution_count": null,
      "outputs": []
    },
    {
      "cell_type": "code",
      "source": [
        "dt  = DecisionTreeClassifier(criterion = 'gini',max_depth = 12,min_samples_leaf =1,min_samples_split = 2)\n",
        "\n",
        "dt.fit(X_train_dt,y_train_dt)\n",
        "pred_dt = dt.predict(X_test)\n",
        "\n",
        "print(classification_report(y_test,pred_dt))"
      ],
      "metadata": {
        "execution": {
          "iopub.status.busy": "2024-07-10T07:20:16.419057Z",
          "iopub.execute_input": "2024-07-10T07:20:16.419504Z",
          "iopub.status.idle": "2024-07-10T07:20:16.454167Z",
          "shell.execute_reply.started": "2024-07-10T07:20:16.419455Z",
          "shell.execute_reply": "2024-07-10T07:20:16.452839Z"
        },
        "trusted": true,
        "id": "VuqeopIhzCbr"
      },
      "execution_count": null,
      "outputs": []
    },
    {
      "cell_type": "code",
      "source": [
        "fpr, tpr, thresholds = metrics.roc_curve(y_test, pred_dt)\n",
        "roc_auc = metrics.auc(fpr, tpr)\n",
        "\n",
        "display = metrics.RocCurveDisplay(fpr=fpr, tpr=tpr, roc_auc=roc_auc,estimator_name='KNN Classifier',)\n",
        "\n",
        "display.plot()\n",
        "plt.show()"
      ],
      "metadata": {
        "execution": {
          "iopub.status.busy": "2024-07-10T07:43:01.271347Z",
          "iopub.execute_input": "2024-07-10T07:43:01.271791Z",
          "iopub.status.idle": "2024-07-10T07:43:01.589637Z",
          "shell.execute_reply.started": "2024-07-10T07:43:01.271757Z",
          "shell.execute_reply": "2024-07-10T07:43:01.58844Z"
        },
        "trusted": true,
        "id": "GdlXPh69zCbs"
      },
      "execution_count": null,
      "outputs": []
    },
    {
      "cell_type": "code",
      "source": [
        "rf = RandomForestClassifier()\n",
        "\n",
        "X_train_rf = X_train.copy(deep = True)\n",
        "y_train_rf = y_train.copy(deep = True)\n",
        "\n",
        "param_grid = {'n_estimators': [100, 200, 300],\n",
        "    'max_depth': [3, 5, 10],\n",
        "    'min_samples_split': [2, 5, 10],\n",
        "    'min_samples_leaf': [1, 5],\n",
        "    'max_features': ['auto', 'sqrt', 'log2'],}\n",
        "\n",
        "gv = GridSearchCV(rf, param_grid, cv=5, scoring='accuracy')\n",
        "\n",
        "gv.fit(X_train_rf,y_train_rf)\n",
        "\n",
        "best_model = gv.best_estimator_\n",
        "best_parameter = gv.best_params_\n",
        "\n",
        "display(best_model,best_parameter)"
      ],
      "metadata": {
        "execution": {
          "iopub.status.busy": "2024-07-10T06:51:40.19284Z",
          "iopub.execute_input": "2024-07-10T06:51:40.193275Z",
          "iopub.status.idle": "2024-07-10T07:03:20.66918Z",
          "shell.execute_reply.started": "2024-07-10T06:51:40.193241Z",
          "shell.execute_reply": "2024-07-10T07:03:20.667896Z"
        },
        "trusted": true,
        "id": "7odTRXUozCbs"
      },
      "execution_count": null,
      "outputs": []
    },
    {
      "cell_type": "code",
      "source": [
        "rf = RandomForestClassifier(n_estimators =100,\n",
        "                           max_depth=10,\n",
        "                           min_samples_split =2,\n",
        "                           min_samples_leaf=1,\n",
        "                           max_features='auto')\n",
        "\n",
        "rf.fit(X_train_dt,y_train_dt)\n",
        "pred_rf = dt.predict(X_test)\n",
        "\n",
        "print(classification_report(y_test,pred_rf))"
      ],
      "metadata": {
        "execution": {
          "iopub.status.busy": "2024-07-10T07:20:50.758546Z",
          "iopub.execute_input": "2024-07-10T07:20:50.758965Z",
          "iopub.status.idle": "2024-07-10T07:20:51.272621Z",
          "shell.execute_reply.started": "2024-07-10T07:20:50.75893Z",
          "shell.execute_reply": "2024-07-10T07:20:51.271506Z"
        },
        "trusted": true,
        "id": "5lUyjsfvzCbs"
      },
      "execution_count": null,
      "outputs": []
    },
    {
      "cell_type": "code",
      "source": [
        "fpr, tpr, thresholds = metrics.roc_curve(y_test, pred_rf)\n",
        "roc_auc = metrics.auc(fpr, tpr)\n",
        "\n",
        "display = metrics.RocCurveDisplay(fpr=fpr, tpr=tpr, roc_auc=roc_auc,estimator_name='Random Forest Classifier',)\n",
        "\n",
        "display.plot()\n",
        "plt.show()"
      ],
      "metadata": {
        "execution": {
          "iopub.status.busy": "2024-07-10T07:43:26.808264Z",
          "iopub.execute_input": "2024-07-10T07:43:26.808696Z",
          "iopub.status.idle": "2024-07-10T07:43:27.133741Z",
          "shell.execute_reply.started": "2024-07-10T07:43:26.808663Z",
          "shell.execute_reply": "2024-07-10T07:43:27.132445Z"
        },
        "trusted": true,
        "id": "36v_cixqzCbs"
      },
      "execution_count": null,
      "outputs": []
    },
    {
      "cell_type": "code",
      "source": [],
      "metadata": {
        "id": "iT7jnVq1zCbs"
      },
      "execution_count": null,
      "outputs": []
    }
  ]
}